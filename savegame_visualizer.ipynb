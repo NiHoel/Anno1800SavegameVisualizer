{
 "cells": [
  {
   "cell_type": "markdown",
   "metadata": {},
   "source": [
    "# Anno 1800 Savegame Visualizer\n",
    "![Run all cells](imgs/run_all.png) ![Restart kernel](imgs/restart_kernel.png)"
   ]
  },
  {
   "cell_type": "code",
   "execution_count": null,
   "metadata": {
    "jupyter": {
     "source_hidden": true
    },
    "tags": []
   },
   "outputs": [],
   "source": [
    "import ipywidgets as widgets\n",
    "with open(\"imgs/loading-buffering.gif\", \"rb\") as f:\n",
    "    spinner = widgets.Image(\n",
    "        value=f.read(),\n",
    "        format='gif',\n",
    "        width=\"5%\",\n",
    "        margin=\"auto\"\n",
    "    )\n",
    "    spinner.layout.margin=\"0 0 0 47.5%\"\n",
    "    display(spinner)"
   ]
  },
  {
   "cell_type": "code",
   "execution_count": null,
   "metadata": {
    "jupyter": {
     "source_hidden": true
    },
    "tags": []
   },
   "outputs": [],
   "source": [
    "import importlib\n",
    "from IPython.display import clear_output\n",
    "\n",
    "if importlib.util.find_spec(\"lxml\") is None :\n",
    "    ! pip install --user lxml\n",
    "    clear_output(wait=True)    \n",
    "if importlib.util.find_spec(\"PyQt5\") is None :\n",
    "    ! pip install --user PyQt5\n",
    "    clear_output(wait=True)\n",
    "from tools.savegame_visualizer_gui import VisualizerGUI\n",
    "\n",
    "ui = VisualizerGUI()\n",
    "try:\n",
    "    spinner.close()\n",
    "except:\n",
    "    pass\n",
    "\n",
    "ui.display()"
   ]
  }
 ],
 "metadata": {
  "kernelspec": {
   "display_name": "Python 3 (ipykernel)",
   "language": "python",
   "name": "python3"
  },
  "language_info": {
   "codemirror_mode": {
    "name": "ipython",
    "version": 3
   },
   "file_extension": ".py",
   "mimetype": "text/x-python",
   "name": "python",
   "nbconvert_exporter": "python",
   "pygments_lexer": "ipython3",
   "version": "3.12.2"
  }
 },
 "nbformat": 4,
 "nbformat_minor": 4
}
