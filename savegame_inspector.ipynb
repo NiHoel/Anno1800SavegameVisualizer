{
 "cells": [
  {
   "cell_type": "markdown",
   "metadata": {},
   "source": [
    "# Anno 1800 Savegame Visualizer\n",
    "\n",
    "## Tabel of Contents\n",
    "1. Setup\n",
    "2. Customizing the Layout\n",
    "3. Inspect the savegame"
   ]
  },
  {
   "cell_type": "markdown",
   "metadata": {},
   "source": [
    "## Setup\n",
    "**Do NOT click the button at the top to run all cells!**\n",
    "\n",
    "This is an interactive document consisting of text parts (like this one) and code parts (with a greyish background). Click in the next line and press **Shift + Enter** to execute the code. "
   ]
  },
  {
   "cell_type": "code",
   "execution_count": null,
   "metadata": {},
   "outputs": [],
   "source": [
    "import importlib\n",
    "if importlib.util.find_spec(\"lxml\") is None :\n",
    "    ! pip install --user lxml\n",
    "\n",
    "from tools.a7s_model import *"
   ]
  },
  {
   "cell_type": "markdown",
   "metadata": {},
   "source": [
    "Set the language of the game. This is important for a correct decution of island names!"
   ]
  },
  {
   "cell_type": "markdown",
   "metadata": {},
   "source": [
    "Paste the **path to a savegame** before you continue. Make sure to not delete the 'r' and quotation marks. Then execute the code. This may take several minutes since the file needs to be unpacked, decoded and read into memory for further processing."
   ]
  },
  {
   "cell_type": "code",
   "execution_count": null,
   "metadata": {},
   "outputs": [],
   "source": [
    "savegame_path = r\"C:\\Users\\<User>\\Documents\\Anno 1800\\accounts\\<account-id>\\<profile>\\Autosave XXX.a7s\"\n",
    "try :\n",
    "    world = World(Interpreter(savegame_path))\n",
    "except Exception as e :\n",
    "    print(\"ERROR:\", e)"
   ]
  },
  {
   "cell_type": "markdown",
   "metadata": {},
   "source": [
    "After loading the savegame, we can inspect it. We start by printing all islands to select one in the next step."
   ]
  },
  {
   "cell_type": "code",
   "execution_count": null,
   "metadata": {},
   "outputs": [],
   "source": [
    "world.print_island_summary()"
   ]
  },
  {
   "cell_type": "markdown",
   "metadata": {},
   "source": [
    "Now set island_name to one of the names above. Ensure that upper and lower case match, the name is put into quotation marks and no additional whitespace is around the name."
   ]
  },
  {
   "cell_type": "code",
   "execution_count": null,
   "metadata": {},
   "outputs": [],
   "source": [
    "island_name = \"Crown Falls\"\n",
    "island = world.get_island(island_name)\n",
    "print(island)"
   ]
  },
  {
   "cell_type": "markdown",
   "metadata": {},
   "source": [
    "Finally, we create an Anno Designer layout from the island and show it in Anno Designer. Make sure that **no instance of Anno Designer is open** before you proceed."
   ]
  },
  {
   "cell_type": "code",
   "execution_count": null,
   "metadata": {},
   "outputs": [],
   "source": [
    "show(island.get_layout())"
   ]
  },
  {
   "cell_type": "markdown",
   "metadata": {},
   "source": [
    "Congretulations! You successfully exported an island. Now let's dive into it to see what more this application offers.\n",
    "\n",
    "For example, you can re-execute a code block again with different parameters. Give it a try: Enter the name of another island and re-execute both code blocks above.\n",
    "\n",
    "If you want to directly save the layout, you can do this too. But keep the following things in mind:\n",
    "* If you do not enter an absolute path, but only a name, the file will be saved in the same directory as this application)\n",
    "* Don't forget the file extension .ad"
   ]
  },
  {
   "cell_type": "code",
   "execution_count": null,
   "metadata": {},
   "outputs": [],
   "source": [
    "save(island.get_layout(), r\"test.ad\")"
   ]
  },
  {
   "cell_type": "markdown",
   "metadata": {},
   "source": [
    "You can save the island as a stamp. Just replace `get_layout()` by `get_stamp()` (you can pass the same options as to `get_layout()`, see below) and `save()` by `save_stamp()`"
   ]
  },
  {
   "cell_type": "code",
   "execution_count": null,
   "metadata": {},
   "outputs": [],
   "source": [
    "save_stamp(island.get_stamp(), r\"my_stamp.ad\")"
   ]
  },
  {
   "cell_type": "markdown",
   "metadata": {},
   "source": [
    "# Customizing the Layout\n",
    "All option from the graphical interface are also available here. "
   ]
  },
  {
   "cell_type": "code",
   "execution_count": null,
   "metadata": {},
   "outputs": [],
   "source": [
    "help(island.get_layout)"
   ]
  },
  {
   "cell_type": "markdown",
   "metadata": {},
   "source": [
    "There is a more convenient way to get the desired options. Open the log console in the savegame_visualizer.ipynb. Whenever you click the \"Open in Anno Designer\" button the options object is printed to the console. Just copy past it here:"
   ]
  },
  {
   "cell_type": "code",
   "execution_count": null,
   "metadata": {},
   "outputs": [],
   "source": [
    "show(island.get_layout( options = {} ))"
   ]
  },
  {
   "cell_type": "markdown",
   "metadata": {},
   "source": [
    "Moreover, batch processing is easy. E.g. store all islands of the Old World session in seperate folders by their island name (you can give them a different file name than 'plan' by editing the string; if you remove the slash, all get stored in the same folder but with different names):\n",
    "\n",
    "Hint: Valid session names are: `\"The Old World\", \"The New World\", \"Kap Trelawny\", \"The Arctic\", \"Enbesa\"`"
   ]
  },
  {
   "cell_type": "code",
   "execution_count": null,
   "metadata": {},
   "outputs": [],
   "source": [
    "for isl in world.get_session(\"The Old World\").islands.values():\n",
    "    if isinstance(isl, Island):\n",
    "        save(isl.get_layout(), isl.name + \"/plan.ad\")"
   ]
  },
  {
   "cell_type": "markdown",
   "metadata": {},
   "source": [
    "# Inspect the Savegame"
   ]
  },
  {
   "cell_type": "markdown",
   "metadata": {},
   "source": [
    "Let's first store the most important object to make the following code shorter:"
   ]
  },
  {
   "cell_type": "code",
   "execution_count": null,
   "metadata": {},
   "outputs": [],
   "source": [
    "inter = world.interpreter"
   ]
  },
  {
   "cell_type": "markdown",
   "metadata": {},
   "source": [
    "I have written a special method to make inspecting the savegame easier. Its purpose is twofold:\n",
    "1. **Properly decode all values**: The savegame is stored as one big XML tree. However, the preprocessing tools only return an XML tree where the text of the leaf nodes is encoded hexadecimal. E.g. the GUID 180045 is encoded as DB0FC93F (hexadeximal representation of a 32-bit integer). The interpreter converts the values before displaying\n",
    "2. **Give a compact overview**: The XML tree contains many arrays (e.g. for islands, objects, etc.) Displaying them in the same way as other XML editors do, this results in a very long output. The inspector instead fuses all items in an array. This has the advantage that one can see all possible child nodes. If those child nodes have different values, they are displayed as an array (e.g. ['1', '2']). For better readability, long arrays and values are truncate. The number next to a node name states how many objects were fused. If you see something like: ': 200' (i.e. the node name is missing). This means there is an array that contains both simple values (without a node name) and complex objects. Those are serialized dictionaries in the form: key1, value1, key2, value2, ...\n",
    "\n",
    "Now let's have a look at the root of the savegame (due to preprocessing, the first method call might take some time; subsequent calls will show the result instantly):"
   ]
  },
  {
   "cell_type": "code",
   "execution_count": null,
   "metadata": {},
   "outputs": [],
   "source": [
    "inter.inspect(world.node)"
   ]
  },
  {
   "cell_type": "markdown",
   "metadata": {},
   "source": [
    "To show more, you can increase the depth to explore (don't go too deep, otherwise there is too much output and Jupyter may crash or refuse to show it)"
   ]
  },
  {
   "cell_type": "code",
   "execution_count": null,
   "metadata": {},
   "outputs": [],
   "source": [
    "inter.inspect(world.node, 3)"
   ]
  },
  {
   "cell_type": "markdown",
   "metadata": {},
   "source": [
    "You can navigate to a certain node for further inspection (search the web for 'XPath' to see how to formulate more complex queries) :"
   ]
  },
  {
   "cell_type": "code",
   "execution_count": null,
   "metadata": {},
   "outputs": [],
   "source": [
    "inter.inspect(world.node.find(\"./MetaGameManager/SessionTransferManager\"), 3)"
   ]
  },
  {
   "cell_type": "markdown",
   "metadata": {},
   "source": [
    "However, it is cumbersome to find the correct nodes for a certain session or island. The data structure from above helps. We can get the node for each object above and inspect it further:"
   ]
  },
  {
   "cell_type": "code",
   "execution_count": null,
   "metadata": {},
   "outputs": [],
   "source": [
    "inter.inspect(island.node, 3)"
   ]
  },
  {
   "cell_type": "markdown",
   "metadata": {},
   "source": [
    "or for sessions:"
   ]
  },
  {
   "cell_type": "code",
   "execution_count": null,
   "metadata": {},
   "outputs": [],
   "source": [
    "inter.inspect(world.get_session(\"The Old World\").node, 3)"
   ]
  },
  {
   "cell_type": "markdown",
   "metadata": {},
   "source": [
    "Some more places you might be interested to have a look at:\n",
    "* `inter.inspect(world.get_session(\"The Old World\").node.find(\"SessionData/BinaryData/Content/GameSessionManager/ItemSessionManager\"), 5)`\n",
    "* `inter.inspect(world.node.find(\"./MetaGameManager/EconomyStatisticManager/History/areaHistory//Snapshots\"), 2)`\n",
    "* `inter.inspect(world.node.find(\"./MetaGameManager/NewspaperManager\"), 5)`\n",
    "* `inter.inspect(world.node.find(\"./GameSetupManager/Peers\"), 8)`"
   ]
  }
 ],
 "metadata": {
  "kernelspec": {
   "display_name": "Python 3 (ipykernel)",
   "language": "python",
   "name": "python3"
  },
  "language_info": {
   "codemirror_mode": {
    "name": "ipython",
    "version": 3
   },
   "file_extension": ".py",
   "mimetype": "text/x-python",
   "name": "python",
   "nbconvert_exporter": "python",
   "pygments_lexer": "ipython3",
   "version": "3.12.2"
  }
 },
 "nbformat": 4,
 "nbformat_minor": 4
}
